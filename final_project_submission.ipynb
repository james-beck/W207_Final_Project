{
 "cells": [
  {
   "cell_type": "markdown",
   "metadata": {
    "ein.tags": "worksheet-0",
    "slideshow": {
     "slide-type": "-"
    }
   },
   "source": [
    "# What's Cooking?\n",
    "## W207 Final Project\n",
    "## James Beck, Samir Datta, Chris Hipple  \n",
    "\n",
    "https://www.kaggle.com/c/whats-cooking"
   ]
  },
  {
   "cell_type": "markdown",
   "metadata": {
    "ein.tags": "worksheet-0",
    "slideshow": {
     "slide-type": "-"
    }
   },
   "source": [
    "# Introduction\n",
    "\n",
    "\n",
    "The goal of this competition is to correctly classfiy the cuisine of a recipe given its ingredients. There are 20 different cuisine types from around the world to classify.  It is hosted by the company Yummly, and all of the data provided is by them.  Yummly is a recipe aggregator website which delivers personalized recipe recommendations and searching.  The ability to more accurately classify recipes by their cuisine type would improve their product offering.\n",
    "\n",
    "\n",
    "# The Data\n",
    "\n",
    "## Description\n",
    "All data is provided by Yummly, and per the rules of the competition, no extraneous data may be brought in for the model.\n",
    "\n",
    "The data provided is a list of recipe ingredients with a label.  We do not have any metadata information such as the name of the recipe, where in the world it was submitted from, and all of the ingredients have been translated are in english. \n",
    "\n",
    "## Preperation\n",
    "\n",
    "The first task was to read the json list into python and seperate into train and dev splits.  We explored several options for preprocessors and vectorizer options to further prepare the data before modelling.  Some basic cleaning, such as lowercasing the ingredients was included in the preprocessor.  Below we take an initial look at the data, first fitting an exploratory model to see where our challenges will lie, and then digging into the data to see what we can find which will help us to improve our model."
   ]
  },
  {
   "cell_type": "code",
   "execution_count": 1,
   "metadata": {
    "autoscroll": false,
    "collapsed": false,
    "ein.tags": "worksheet-0",
    "slideshow": {
     "slide-type": "-"
    }
   },
   "outputs": [],
   "source": [
    "import pandas as pd\n",
    "import json\n",
    "import numpy as np\n",
    "import re\n",
    "from nltk import ngrams\n",
    "from itertools import combinations\n",
    "\n",
    "from sklearn.feature_extraction.text import *\n",
    "from sklearn.model_selection import train_test_split\n",
    "from sklearn import metrics\n",
    "from sklearn.naive_bayes import MultinomialNB\n",
    "from sklearn.metrics import confusion_matrix\n",
    "from sklearn.metrics import classification_report\n",
    "\n",
    "from sklearn.linear_model import LogisticRegression\n",
    "from sklearn.ensemble import GradientBoostingClassifier\n",
    "\n",
    "from sklearn.model_selection import GridSearchCV\n",
    "from sklearn.decomposition import PCA\n",
    "\n",
    "from sklearn.pipeline import Pipeline\n",
    "from sklearn.pipeline import FeatureUnion\n",
    "\n",
    "from sklearn.base import BaseEstimator, TransformerMixin\n",
    "from sklearn.svm import LinearSVC\n",
    "\n",
    "%matplotlib inline\n",
    "\n",
    "import matplotlib.pyplot as plt\n",
    "plt.style.use(\"ggplot\")"
   ]
  },
  {
   "cell_type": "code",
   "execution_count": 5,
   "metadata": {
    "autoscroll": false,
    "collapsed": false,
    "ein.tags": "worksheet-0",
    "slideshow": {
     "slide-type": "-"
    }
   },
   "outputs": [],
   "source": [
    "cats = ['brazilian', 'british', 'cajun_creole', 'chinese', 'filipino', 'french', 'greek', 'indian', 'irish', 'italian', 'jamaican','japanese', 'korean', 'mexican', 'moroccan', 'russian', 'southern_us', 'spanish', 'thai', 'vietnamese']\n",
    "\n",
    "with open('train.json') as data_file:    \n",
    "    data = json.load(data_file)\n",
    "\n",
    "X = []\n",
    "y = []\n",
    "for item in data:\n",
    "    X.append(', '.join(item['ingredients']))\n",
    "    y.append(item['cuisine'])    \n",
    "\n",
    "with open('test.json') as data_file:    \n",
    "    test_data = json.load(data_file)\n",
    "\n",
    "X_test = []\n",
    "ID_test = []\n",
    "for item in test_data:\n",
    "    X_test.append(', '.join(item['ingredients']))\n",
    "    ID_test.append(item['id'])    \n",
    "\n",
    "\n",
    "\n",
    "X_train, X_dev, y_train, y_dev = train_test_split(X, y, random_state=2)"
   ]
  },
  {
   "cell_type": "code",
   "execution_count": 3,
   "metadata": {
    "autoscroll": false,
    "collapsed": false,
    "ein.tags": "worksheet-0",
    "scrolled": true,
    "slideshow": {
     "slide-type": "-"
    }
   },
   "outputs": [
    {
     "name": "stdout",
     "output_type": "stream",
     "text": [
      "Number of recipes in training data: 29830\n",
      "Number of recipes in development data: 9944\n",
      "Number of recipes in test data: 39774\n"
     ]
    }
   ],
   "source": [
    "print(\"Number of recipes in training data: \"+str(len(X_train)))\n",
    "print(\"Number of recipes in development data: \"+str(len(X_dev)))\n",
    "print(\"Number of recipes in test data: \" + str(len(X_test)))"
   ]
  },
  {
   "cell_type": "markdown",
   "metadata": {
    "ein.tags": "worksheet-0",
    "slideshow": {
     "slide-type": "-"
    }
   },
   "source": [
    "# First attempt\n",
    "\n",
    "Our first attempt to classify the recipes was to use the \"bag of words\" approach. We used the count vectorizer to create a sparse matrix of every word in the recipes, and fit a logistic regression model on the training data. We used this model to predict the development data."
   ]
  },
  {
   "cell_type": "code",
   "execution_count": 4,
   "metadata": {
    "autoscroll": false,
    "collapsed": false,
    "ein.tags": "worksheet-0",
    "slideshow": {
     "slide-type": "-"
    }
   },
   "outputs": [
    {
     "name": "stdout",
     "output_type": "stream",
     "text": [
      "              precision    recall  f1-score   support\n",
      "\n",
      "   brazilian       0.76      0.55      0.63       121\n",
      "     british       0.59      0.33      0.43       206\n",
      "cajun_creole       0.78      0.70      0.74       376\n",
      "     chinese       0.79      0.85      0.82       670\n",
      "    filipino       0.71      0.54      0.61       190\n",
      "      french       0.59      0.64      0.61       636\n",
      "       greek       0.76      0.70      0.73       258\n",
      "      indian       0.85      0.89      0.87       758\n",
      "       irish       0.67      0.47      0.55       175\n",
      "     italian       0.80      0.90      0.85      1963\n",
      "    jamaican       0.81      0.70      0.75       123\n",
      "    japanese       0.82      0.69      0.75       342\n",
      "      korean       0.84      0.74      0.79       221\n",
      "     mexican       0.91      0.92      0.91      1668\n",
      "    moroccan       0.81      0.78      0.80       215\n",
      "     russian       0.66      0.40      0.50       133\n",
      " southern_us       0.69      0.77      0.73      1056\n",
      "     spanish       0.63      0.43      0.51       247\n",
      "        thai       0.78      0.77      0.78       391\n",
      "  vietnamese       0.68      0.58      0.63       195\n",
      "\n",
      " avg / total       0.78      0.78      0.78      9944\n",
      "\n",
      "f1=score: 0.775129698146\n",
      "Accuracy: 0.78077232502\n"
     ]
    }
   ],
   "source": [
    "cv = CountVectorizer()\n",
    "tf_X_train = cv.fit_transform(X_train)\n",
    "tf_X_dev = cv.transform(X_dev)\n",
    "\n",
    "lr = LogisticRegression()\n",
    "lr.fit(tf_X_train, y_train)\n",
    "predictions = lr.predict(tf_X_dev)\n",
    "\n",
    "print(classification_report(y_dev, predictions))\n",
    "print(\"f1=score: \"+str(metrics.f1_score(y_dev, predictions, average='weighted')))\n",
    "print(\"Accuracy: \"+str(np.mean(predictions==y_dev)))"
   ]
  },
  {
   "cell_type": "markdown",
   "metadata": {
    "ein.tags": "worksheet-0",
    "slideshow": {
     "slide-type": "-"
    }
   },
   "source": [
    "Our simple approach to classification gave us an f1-score of .775 and an overall accuracy of .781.\n",
    "\n",
    "One of the things that really sticks out for us in this first model is the very low recall score of British recipes.  Other cuisines also had low recall, as well.  "
   ]
  },
  {
   "cell_type": "markdown",
   "metadata": {
    "ein.tags": "worksheet-0",
    "slideshow": {
     "slide-type": "-"
    }
   },
   "source": [
    "# Exploratory Data Analysis"
   ]
  },
  {
   "cell_type": "code",
   "execution_count": 6,
   "metadata": {
    "autoscroll": false,
    "collapsed": false,
    "ein.tags": "worksheet-0",
    "slideshow": {
     "slide-type": "-"
    }
   },
   "outputs": [
    {
     "name": "stdout",
     "output_type": "stream",
     "text": [
      "Number of unique ingredients: 2849\n"
     ]
    }
   ],
   "source": [
    "print(\"Number of unique ingredients: \"+str(len(cv.vocabulary_)))"
   ]
  },
  {
   "cell_type": "code",
   "execution_count": 7,
   "metadata": {
    "autoscroll": false,
    "collapsed": false,
    "ein.tags": "worksheet-0",
    "slideshow": {
     "slide-type": "-"
    }
   },
   "outputs": [
    {
     "name": "stdout",
     "output_type": "stream",
     "text": [
      "Most important ingredients for each cuisine:\n",
      "\n",
      "brazilian\n",
      "curry -2.2989650281\n",
      "açai 2.42259592282\n",
      "tapioca 2.61783226957\n",
      "manioc 3.04912487904\n",
      "cachaca 5.66421371771\n",
      "\n",
      "\n",
      "british\n",
      "worcestershire 2.272527401\n",
      "marmite 2.67151053047\n",
      "mincemeat 2.70638344936\n",
      "haddock 2.72889213508\n",
      "stilton 4.81105039484\n",
      "\n",
      "\n",
      "cajun_creole\n",
      "mortadella 1.81332461784\n",
      "jambalaya 1.81889120589\n",
      "salami 1.99265347786\n",
      "creole 3.20484062391\n",
      "cajun 3.68107966411\n",
      "\n",
      "\n",
      "chinese\n",
      "mein 2.14816618069\n",
      "kimchi -2.33025305997\n",
      "mirin -2.65507625464\n",
      "mandarin 2.77164924558\n",
      "szechwan 2.81858167048\n",
      "\n",
      "\n",
      "filipino\n",
      "dogs 2.34400681605\n",
      "basil -2.35309943746\n",
      "glutinous 2.35886402214\n",
      "lumpia 2.83547507271\n",
      "calamansi 3.45365384989\n",
      "\n",
      "\n",
      "french\n",
      "swiss 2.37670078756\n",
      "niçoise 2.42016577247\n",
      "crepes 2.47689727748\n",
      "gruyère 2.48881369811\n",
      "gruyere 2.86770592797\n",
      "\n",
      "\n",
      "greek\n",
      "tahini 2.69161800998\n",
      "ouzo 2.84026387567\n",
      "phyllo 3.14351216819\n",
      "greek 3.33923748924\n",
      "feta 4.26972868408\n",
      "\n",
      "\n",
      "indian\n",
      "cardamom 2.38706721777\n",
      "yoghurt 2.459407175\n",
      "masala 2.51177000759\n",
      "curry 2.91925551914\n",
      "tandoori 3.78903306201\n",
      "\n",
      "\n",
      "irish\n",
      "stout 2.33425290013\n",
      "guinness 2.52920490308\n",
      "brisket 2.68617838647\n",
      "corned 3.27981891439\n",
      "irish 4.56445384889\n",
      "\n",
      "\n",
      "italian\n",
      "spaghetti 2.83605398458\n",
      "grits -3.05291914353\n",
      "gnocchi 3.28043709638\n",
      "polenta 3.40775510933\n",
      "arborio 3.74388800176\n",
      "\n",
      "\n",
      "jamaican\n",
      "nutmeg 2.07608583204\n",
      "rum 2.40586927043\n",
      "thyme 3.1890957936\n",
      "allspice 3.35762616847\n",
      "jerk 5.65131361082\n",
      "\n",
      "\n",
      "japanese\n",
      "sake 3.17437037058\n",
      "soba 3.18805634556\n",
      "mirin 3.26689483996\n",
      "bonito 3.43987372352\n",
      "miso 3.85822942476\n",
      "\n",
      "\n",
      "korean\n",
      "butter -2.05861012542\n",
      "sesame 2.12459649119\n",
      "pinenuts 2.38963914556\n",
      "gochujang 3.13849276928\n",
      "kimchi 4.7258500898\n",
      "\n",
      "\n",
      "mexican\n",
      "mexican 2.968198149\n",
      "enchilada 3.13845704908\n",
      "tequila 3.55554911458\n",
      "taco 3.98031060386\n",
      "tortillas 3.99074633722\n",
      "\n",
      "\n",
      "moroccan\n",
      "semolina 2.10613386375\n",
      "preserved 2.12416171653\n",
      "flower 2.45296318547\n",
      "couscous 3.07455404846\n",
      "harissa 3.21554953667\n",
      "\n",
      "\n",
      "russian\n",
      "cottage 2.00755213161\n",
      "dill 2.04914523916\n",
      "dillweed 2.22469351132\n",
      "sauerkraut 2.2420096441\n",
      "beets 3.05262775973\n",
      "\n",
      "\n",
      "southern_us\n",
      "lima 2.64562818771\n",
      "wafers 2.81555253001\n",
      "collard 2.91982206093\n",
      "eyed 3.74031977416\n",
      "grits 4.41972456146\n",
      "\n",
      "\n",
      "spanish\n",
      "pimenton 1.85423221489\n",
      "pimentos 1.90561558089\n",
      "sherry 1.94988402735\n",
      "chorizo 2.65239232747\n",
      "manchego 3.13513665143\n",
      "\n",
      "\n",
      "thai\n",
      "palm 1.75533520295\n",
      "hoisin -2.03542473527\n",
      "galangal 2.11906401553\n",
      "vietnamese -2.52345891221\n",
      "sticky 2.54880564408\n",
      "\n",
      "\n",
      "vietnamese\n",
      "maggi 1.92074292778\n",
      "tapioca 2.08784774902\n",
      "fish 2.12648915576\n",
      "cheese -2.17569072565\n",
      "vietnamese 2.39175071648\n",
      "\n",
      "\n"
     ]
    }
   ],
   "source": [
    "print(\"Most important ingredients for each cuisine:\\n\")\n",
    "\n",
    "largestWeightedWords = []\n",
    "largestWeightedIndeces = []\n",
    "cv_featurenames = cv.get_feature_names()\n",
    "\n",
    "for cat in range(20):\n",
    "    print(cats[cat])\n",
    "    weightIndeces = np.argsort(abs(lr.coef_[cat]))[-5:]\n",
    "    for index in weightIndeces:\n",
    "        weight = lr.coef_[cat][index]\n",
    "        \n",
    "        print(cv_featurenames[index] + \" \" + str(weight))\n",
    "    print('\\n')"
   ]
  },
  {
   "cell_type": "code",
   "execution_count": 8,
   "metadata": {
    "autoscroll": false,
    "collapsed": false,
    "ein.tags": "worksheet-0",
    "slideshow": {
     "slide-type": "-"
    }
   },
   "outputs": [],
   "source": [
    "#Create list of most common ingedients based off simple text parser\n",
    "ingredient_freq = []\n",
    "for featurename in cv_featurenames:\n",
    "    i = 0\n",
    "    for recipe in X_train:\n",
    "        if featurename in recipe:\n",
    "            i +=1\n",
    "    ingredient_freq.append((featurename, i))"
   ]
  },
  {
   "cell_type": "code",
   "execution_count": 9,
   "metadata": {
    "autoscroll": false,
    "collapsed": false,
    "ein.tags": "worksheet-0",
    "slideshow": {
     "slide-type": "-"
    }
   },
   "outputs": [
    {
     "data": {
      "text/plain": [
       "[(u'in', 22462),\n",
       " (u'on', 22015),\n",
       " (u'ic', 21720),\n",
       " (u'la', 19673),\n",
       " (u'ro', 18848),\n",
       " (u'salt', 18421),\n",
       " (u'an', 18202),\n",
       " (u'oil', 15985),\n",
       " (u'lo', 15483),\n",
       " (u'pepper', 15270),\n",
       " (u'garlic', 13600),\n",
       " (u'st', 13226),\n",
       " (u'onion', 13159),\n",
       " (u'or', 13064),\n",
       " (u'to', 12805),\n",
       " (u'mi', 11928),\n",
       " (u'ice', 11366),\n",
       " (u'el', 10789),\n",
       " (u'fresh', 10203),\n",
       " (u'round', 9822),\n",
       " (u'ground', 9763),\n",
       " (u'de', 9648),\n",
       " (u'au', 8960),\n",
       " (u'red', 8875),\n",
       " (u'onions', 8762),\n",
       " (u'oliv', 8417),\n",
       " (u'olive', 8416),\n",
       " (u'sugar', 8412),\n",
       " (u'mo', 8377),\n",
       " (u'sauc', 7699),\n",
       " (u'sauce', 7671),\n",
       " (u'it', 7660),\n",
       " (u'black', 7614),\n",
       " (u'tom', 7491),\n",
       " (u'tomato', 7294),\n",
       " (u'water', 7135),\n",
       " (u'chee', 6967),\n",
       " (u'chees', 6963),\n",
       " (u'chicken', 6942),\n",
       " (u'butt', 6920),\n",
       " (u'cheese', 6890),\n",
       " (u'egg', 6890),\n",
       " (u'butter', 6739),\n",
       " (u'no', 6688),\n",
       " (u'all', 6557),\n",
       " (u'cho', 6523),\n",
       " (u'flour', 6238),\n",
       " (u'tomatoes', 6197),\n",
       " (u'gin', 6077),\n",
       " (u'green', 6069)]"
      ]
     },
     "execution_count": 9,
     "metadata": {},
     "output_type": "execute_result"
    }
   ],
   "source": [
    "ingredients_sorted_by_freq = sorted(ingredient_freq, key=lambda tup: tup[1], reverse=True)\n",
    "ingredients_sorted_by_freq[0:50]"
   ]
  },
  {
   "cell_type": "markdown",
   "metadata": {
    "ein.tags": "worksheet-0",
    "slideshow": {
     "slide-type": "-"
    }
   },
   "source": [
    "# Bigrams\n",
    "\n",
    "Our next step was to have the vectorizer detect word pairs in addition to single words. "
   ]
  },
  {
   "cell_type": "code",
   "execution_count": 10,
   "metadata": {
    "autoscroll": false,
    "collapsed": false,
    "ein.tags": "worksheet-0",
    "slideshow": {
     "slide-type": "-"
    }
   },
   "outputs": [
    {
     "name": "stdout",
     "output_type": "stream",
     "text": [
      "f1=score: 0.77820171114\n",
      "Accuracy: 0.78268302494\n"
     ]
    }
   ],
   "source": [
    "cv_bigrams = CountVectorizer(ngram_range=(1,2))\n",
    "tf_X_train_bigrams = cv_bigrams.fit_transform(X_train)\n",
    "tf_X_dev_bigrams = cv_bigrams.transform(X_dev)\n",
    "\n",
    "lr_bigrams = LogisticRegression()\n",
    "lr_bigrams.fit(tf_X_train_bigrams, y_train)\n",
    "predictions = lr_bigrams.predict(tf_X_dev_bigrams)\n",
    "\n",
    "print(\"f1=score: \"+str(metrics.f1_score(y_dev, predictions, average='weighted')))\n",
    "print(\"Accuracy: \"+str(np.mean(predictions==y_dev)))"
   ]
  },
  {
   "cell_type": "code",
   "execution_count": 11,
   "metadata": {
    "autoscroll": false,
    "collapsed": false,
    "ein.tags": "worksheet-0",
    "slideshow": {
     "slide-type": "-"
    }
   },
   "outputs": [
    {
     "name": "stdout",
     "output_type": "stream",
     "text": [
      "brazilian\n",
      "manioc flour 1.81681801805\n",
      "manioc 1.81681801805\n",
      "black beans 1.89634760191\n",
      "tapioca flour 1.94342786727\n",
      "cachaca 4.42659370987\n",
      "\n",
      "\n",
      "british\n",
      "stilton cheese 1.5857691211\n",
      "jam 1.60918448218\n",
      "mincemeat 1.70117803453\n",
      "marmite 2.1424228672\n",
      "stilton 3.28159491315\n",
      "\n",
      "\n",
      "cajun_creole\n",
      "oil powdered 1.39536689056\n",
      "powder dried 1.50192502315\n",
      "cajun seasoning 1.6794476303\n",
      "creole 2.32924592959\n",
      "cajun 2.3873971081\n",
      "\n",
      "\n",
      "chinese\n",
      "szechwan peppercorns 1.58492266156\n",
      "kimchi -1.62362452422\n",
      "mandarin 1.80026548769\n",
      "sake -1.8934646463\n",
      "mirin -2.62748694478\n",
      "\n",
      "\n",
      "filipino\n",
      "tilapia 1.38702311722\n",
      "mirin -1.4297253995\n",
      "basil -1.49850043664\n",
      "calamansi 1.94431416591\n",
      "lumpia 1.97028204222\n",
      "\n",
      "\n",
      "french\n",
      "snails 1.60199530565\n",
      "grits -1.75811419994\n",
      "duck 1.76784173583\n",
      "pasta -1.77049305825\n",
      "cognac 1.99117552481\n",
      "\n",
      "\n",
      "greek\n",
      "phyllo 2.25897022275\n",
      "tahini 2.27594124365\n",
      "feta cheese 2.56310424103\n",
      "feta 2.63277668083\n",
      "greek 2.91302049001\n",
      "\n",
      "\n",
      "indian\n",
      "curds 1.95553699994\n",
      "tandoori 2.2022676421\n",
      "masala 2.23408926854\n",
      "curry 2.41600133002\n",
      "yoghurt 2.55693245291\n",
      "\n",
      "\n",
      "irish\n",
      "brisket 1.62398955028\n",
      "corned 1.64929864881\n",
      "corned beef 1.64929864881\n",
      "potatoes 2.0876184929\n",
      "irish 3.42817692105\n",
      "\n",
      "\n",
      "italian\n",
      "gnocchi 2.38422572607\n",
      "grits -2.53946131624\n",
      "mascarpone 2.58581434892\n",
      "spaghetti 2.91974021563\n",
      "polenta 3.37725228759\n",
      "\n",
      "\n",
      "jamaican\n",
      "nutmeg 1.74171917562\n",
      "rum 1.99001681895\n",
      "allspice 2.84641393184\n",
      "thyme 2.92833055512\n",
      "jerk 3.95608942894\n",
      "\n",
      "\n",
      "japanese\n",
      "nori 2.29715657732\n",
      "dashi 2.52074777196\n",
      "sake 3.25246388185\n",
      "mirin 3.28183459626\n",
      "miso 3.53743696053\n",
      "\n",
      "\n",
      "korean\n",
      "eggs carrots 1.61012301837\n",
      "gochujang base 1.87625768543\n",
      "gochujang 1.87625768543\n",
      "pinenuts 2.12262916017\n",
      "kimchi 3.57471119785\n",
      "\n",
      "\n",
      "mexican\n",
      "salsa 2.42764041998\n",
      "taco 2.59632342146\n",
      "mexican 2.65866517553\n",
      "tequila 3.25737227974\n",
      "tortillas 3.42138070197\n",
      "\n",
      "\n",
      "moroccan\n",
      "lemon kosher 1.9846983132\n",
      "green tea 2.05966588451\n",
      "cinnamon 2.0866187679\n",
      "harissa 2.32639841849\n",
      "couscous 2.89469631414\n",
      "\n",
      "\n",
      "russian\n",
      "sour 1.21574356209\n",
      "cabbage 1.29575821916\n",
      "sauerkraut 1.61629597967\n",
      "dill 1.76339369928\n",
      "beets 2.79842219796\n",
      "\n",
      "\n",
      "southern_us\n",
      "biscuits 2.12138746448\n",
      "peaches 2.51371674888\n",
      "green tomatoes 3.05342857944\n",
      "sweet potatoes 3.34637280934\n",
      "grits 4.57476683507\n",
      "\n",
      "\n",
      "spanish\n",
      "sherry 1.55200010226\n",
      "saffron 1.59125876557\n",
      "manchego 1.72867684701\n",
      "manchego cheese 1.73389817859\n",
      "chorizo 2.33126946715\n",
      "\n",
      "\n",
      "thai\n",
      "sticky rice 1.52925204193\n",
      "curry paste 1.55096265288\n",
      "coconut milk 1.57082437716\n",
      "peanut 1.58470097134\n",
      "thai 1.82211672541\n",
      "\n",
      "\n",
      "vietnamese\n",
      "maggi 1.49812861731\n",
      "cheese -1.64093240932\n",
      "vietnamese 1.64719566543\n",
      "tapioca 1.78900770623\n",
      "fish sauce 1.9032839699\n",
      "\n",
      "\n"
     ]
    }
   ],
   "source": [
    "largestWeightedWords = []\n",
    "largestWeightedIndeces = []\n",
    "cv_bigram_featurenames = cv_bigrams.get_feature_names()\n",
    "\n",
    "\n",
    "for cat in range(20):\n",
    "    print(cats[cat])\n",
    "    weightIndeces = np.argsort(abs(lr_bigrams.coef_[cat]))[-5:]\n",
    "    for index in weightIndeces:\n",
    "        weight = lr_bigrams.coef_[cat][index]\n",
    "        \n",
    "        print(cv_bigram_featurenames[index] + \" \" + str(weight))\n",
    "    print('\\n')"
   ]
  },
  {
   "cell_type": "markdown",
   "metadata": {
    "ein.tags": "worksheet-0",
    "slideshow": {
     "slide-type": "-"
    }
   },
   "source": [
    "We notice that in our bigram model, many of the most important features for each cuisine are bigrams.  Even though the accuracy of our model was only slightly impacted, this tells us that including the extra bigram features is useful, and we should continue to move foward.  "
   ]
  },
  {
   "cell_type": "markdown",
   "metadata": {
    "ein.tags": "worksheet-0",
    "slideshow": {
     "slide-type": "-"
    }
   },
   "source": [
    "## Custom tokenizer and preprocessor\n",
    "\n",
    "Our next step was to attempt to build a bustom tokenizer and preprocessor to remove some noise and keep only the most important and informative features."
   ]
  },
  {
   "cell_type": "code",
   "execution_count": 12,
   "metadata": {
    "autoscroll": false,
    "collapsed": false,
    "ein.tags": "worksheet-0",
    "slideshow": {
     "slide-type": "-"
    }
   },
   "outputs": [],
   "source": [
    "#Our custom preprocessor removes features that are uninformative - \n",
    "#like numbers, unnecessary spaces, and words that are two characters long or less.\n",
    "def custom_preprocessor(ingredients):\n",
    "    result = []\n",
    "    for ingredient in ingredients.split(', '):\n",
    "        temp = ingredient.lower()\n",
    "        \n",
    "        #remove numbers\n",
    "        temp = re.sub(r'\\d+|&', '', temp)\n",
    "        #remove unnecessary spaces\n",
    "        temp = re.sub(r' +', ' ', temp)\n",
    "        #remove any words that are two characters or less\n",
    "        temp = ' '.join(word for word in temp.split() if len(word)>2)\n",
    "        \n",
    "        result.append(\"\".join(temp))\n",
    "    \n",
    "    return \", \".join(result)\n",
    "\n",
    "#our custom_tokenizer retuns every combination of every word\n",
    "#in the ingredinet list.\n",
    "#this increases the number of features by a lot, but also improves\n",
    "#accuracy.\n",
    "#\n",
    "#the logic behind this tokenizer is that two ingreidents may not be\n",
    "#informative on their own, but if seen together they may help to predict\n",
    "#a certain cuisine.\n",
    "\n",
    "\n",
    "def custom_tokenizer(string):\n",
    "    result = []\n",
    "    \n",
    "    #overall note: the point of sorting the ingredients before adding\n",
    "    #them to the list is to prevent duplicates that are just flipped\n",
    "    #like \"unsalted butter\" and \"butter unsalted\"\n",
    "    \n",
    "    #create an empty list where we're going to put the ngrams\n",
    "    #where n = 1 so we can later create combinations of those\n",
    "    single_grams = []\n",
    "    \n",
    "    \n",
    "    for ingredient in string.split(', '):\n",
    "        for n in range(1,len(ingredient.split())+1):\n",
    "            grams = ngrams(ingredient.split(' '), n)\n",
    "            for gram in grams:\n",
    "                #if the length of the ngram we're looking at is 1,\n",
    "                #add it to our single grams list.\n",
    "                if n == 1:\n",
    "                    single_grams.append(gram[0])\n",
    "                result.append(\" \".join(sorted(list(gram))))\n",
    "    \n",
    "    #finally add every combination of the n = 1 ngrams\n",
    "    #so from ['unsalted butter', 'baking powder']\n",
    "    #we should be adding: 'butter unsalted', 'baking powder',\n",
    "    #'baking butter', 'baking unsalted', 'butter powder', 'powder unsalted'\n",
    "    for combo in combinations(single_grams, 2):\n",
    "        result.append(' '.join(sorted(list(combo))))\n",
    "    \n",
    "    #return the unique elements of this list\n",
    "    #since there will be plenty of duplicates\n",
    "    return list(set(result))"
   ]
  },
  {
   "cell_type": "code",
   "execution_count": 13,
   "metadata": {
    "autoscroll": false,
    "collapsed": false,
    "ein.tags": "worksheet-0",
    "slideshow": {
     "slide-type": "-"
    }
   },
   "outputs": [
    {
     "name": "stdout",
     "output_type": "stream",
     "text": [
      "0.800150273927\n",
      "0.804203539823\n",
      "              precision    recall  f1-score   support\n",
      "\n",
      "   brazilian       0.82      0.61      0.70       121\n",
      "     british       0.70      0.48      0.56       206\n",
      "cajun_creole       0.78      0.74      0.76       376\n",
      "     chinese       0.84      0.85      0.85       670\n",
      "    filipino       0.73      0.66      0.69       190\n",
      "      french       0.64      0.68      0.66       636\n",
      "       greek       0.79      0.72      0.76       258\n",
      "      indian       0.87      0.91      0.89       758\n",
      "       irish       0.67      0.51      0.58       175\n",
      "     italian       0.81      0.91      0.85      1963\n",
      "    jamaican       0.87      0.69      0.77       123\n",
      "    japanese       0.82      0.74      0.78       342\n",
      "      korean       0.86      0.77      0.82       221\n",
      "     mexican       0.91      0.93      0.92      1668\n",
      "    moroccan       0.84      0.78      0.81       215\n",
      "     russian       0.72      0.45      0.56       133\n",
      " southern_us       0.73      0.78      0.76      1056\n",
      "     spanish       0.65      0.45      0.53       247\n",
      "        thai       0.82      0.82      0.82       391\n",
      "  vietnamese       0.74      0.65      0.69       195\n",
      "\n",
      " avg / total       0.80      0.80      0.80      9944\n",
      "\n"
     ]
    }
   ],
   "source": [
    "model = LogisticRegression(penalty=\"l2\")\n",
    "vectorizer = CountVectorizer(preprocessor = custom_preprocessor,\n",
    "                             tokenizer = custom_tokenizer)\n",
    "                             \n",
    "pipe = Pipeline([(\"vectorize\", vectorizer), (\"model\", model)])\n",
    "pipe.fit(X_train, y_train)\n",
    "preds = pipe.predict(X_dev)\n",
    "\n",
    "print(metrics.f1_score(y_dev, preds, average='weighted'))\n",
    "print(pipe.score(X_dev, y_dev))\n",
    "print(classification_report(y_dev, preds))"
   ]
  },
  {
   "cell_type": "markdown",
   "metadata": {
    "ein.tags": "worksheet-0",
    "slideshow": {
     "slide-type": "-"
    }
   },
   "source": [
    "Again, with this improved model, we see the low recall for the British.  This is likely one of our large sources of issue in the performance of our model, and we'll seek to address it.  Below we take a look at the confusion matrix to see where our British results are getting mixed up, and other patterns of missclassification which may emerge."
   ]
  },
  {
   "cell_type": "code",
   "execution_count": 14,
   "metadata": {
    "autoscroll": false,
    "collapsed": false,
    "ein.tags": "worksheet-0",
    "slideshow": {
     "slide-type": "-"
    }
   },
   "outputs": [
    {
     "name": "stdout",
     "output_type": "stream",
     "text": [
      "              brazilian  british  cajun_creole  chinese  filipino  french  \\\n",
      "brazilian            74        1             3        0         2       2   \n",
      "british               0       98             2        0         0      28   \n",
      "cajun_creole          1        3           279        0         0       5   \n",
      "chinese               0        1             2      571         9       1   \n",
      "filipino              3        1             0       16       125       4   \n",
      "french                0        2             9        1         2     434   \n",
      "greek                 0        0             0        0         1       4   \n",
      "indian                0        1             0        1         1       4   \n",
      "irish                 1       16             0        0         0      11   \n",
      "italian               0        5             4        3         4      71   \n",
      "jamaican              2        1             2        1         2       0   \n",
      "japanese              2        0             0       24         2       5   \n",
      "korean                0        0             0       21         4       1   \n",
      "mexican               3        1             6        2         3      12   \n",
      "moroccan              0        1             1        2         0       3   \n",
      "russian               0        6             0        0         0      19   \n",
      "southern_us           3        3            44        2         3      47   \n",
      "spanish               1        1             4        0         3      31   \n",
      "thai                  0        0             1       20         5       0   \n",
      "vietnamese            0        0             0       12         6       1   \n",
      "\n",
      "              greek  indian  irish  italian  jamaican  japanese  korean  \\\n",
      "brazilian         0       4      0        3         3         1       0   \n",
      "british           0       5     11       13         1         2       0   \n",
      "cajun_creole      0       0      2       21         2         1       1   \n",
      "chinese           0       6      1        3         0        15      16   \n",
      "filipino          0       1      1        6         1         3       1   \n",
      "french            5       4      3      111         0         2       0   \n",
      "greek           186       2      2       45         0         0       0   \n",
      "indian            6     693      0        8         1         5       0   \n",
      "irish             0       2     90       18         0         0       0   \n",
      "italian          23       4      6     1780         0         1       0   \n",
      "jamaican          0      10      2        2        85         0       0   \n",
      "japanese          1      27      0        9         0       253       3   \n",
      "korean            0       0      0        5         0        13     171   \n",
      "mexican           1       6      2       37         0         0       1   \n",
      "moroccan          4      14      1        8         1         0       0   \n",
      "russian           2       3      2       14         0         0       0   \n",
      "southern_us       2       5     10       60         3         3       1   \n",
      "spanish           4       3      1       53         1         0       0   \n",
      "thai              0      10      0        6         0         4       1   \n",
      "vietnamese        0       1      0        7         0         4       3   \n",
      "\n",
      "              mexican  moroccan  russian  southern_us  spanish  thai  \\\n",
      "brazilian          11         0        1           11        4     1   \n",
      "british             4         1        3           34        3     0   \n",
      "cajun_creole       12         0        0           45        4     0   \n",
      "chinese             7         0        0            8        0    17   \n",
      "filipino            8         0        0           10        2     2   \n",
      "french              7         2        5           38       11     0   \n",
      "greek               1         7        1            5        4     0   \n",
      "indian              8         8        0           10        0    11   \n",
      "irish               0         1        3           30        3     0   \n",
      "italian            18         5        1           27       10     1   \n",
      "jamaican            4         0        0           10        1     1   \n",
      "japanese            2         0        1            6        1     3   \n",
      "korean              0         0        0            3        0     1   \n",
      "mexican          1552         3        0           29        9     1   \n",
      "moroccan            6       168        0            5        1     0   \n",
      "russian            11         1       60           14        1     0   \n",
      "southern_us        32         2        6          823        4     1   \n",
      "spanish            20         3        2            9      110     1   \n",
      "thai                3         0        0            5        0   319   \n",
      "vietnamese          4         0        0            2        0    29   \n",
      "\n",
      "              vietnamese  \n",
      "brazilian              0  \n",
      "british                1  \n",
      "cajun_creole           0  \n",
      "chinese               13  \n",
      "filipino               6  \n",
      "french                 0  \n",
      "greek                  0  \n",
      "indian                 1  \n",
      "irish                  0  \n",
      "italian                0  \n",
      "jamaican               0  \n",
      "japanese               3  \n",
      "korean                 2  \n",
      "mexican                0  \n",
      "moroccan               0  \n",
      "russian                0  \n",
      "southern_us            2  \n",
      "spanish                0  \n",
      "thai                  17  \n",
      "vietnamese           126  \n"
     ]
    }
   ],
   "source": [
    "cm = confusion_matrix(y_dev, preds)\n",
    "cmdf = pd.DataFrame(cm, index = cats, columns = cats)\n",
    "print cmdf"
   ]
  },
  {
   "cell_type": "markdown",
   "metadata": {
    "ein.tags": "worksheet-0",
    "slideshow": {
     "slide-type": "-"
    }
   },
   "source": [
    "From above in our confusion matrix, we also noticed that the british and irish often confused with eachother.  The other big take aways are that French and Southern_US cuisines are often misclassified as many other things.  We also noticed that in the classification report, these two lower support.  Hopefully by combining them, then classifying from the subgroup, it will improve our ability to predict both of them.\n",
    "\n",
    "First we explore the British and Irish confusions to see if we can fit a model that can accurately differenitate between the two, if only those two are in the pool."
   ]
  },
  {
   "cell_type": "code",
   "execution_count": 16,
   "metadata": {
    "autoscroll": false,
    "collapsed": false,
    "ein.tags": "worksheet-0",
    "slideshow": {
     "slide-type": "-"
    }
   },
   "outputs": [
    {
     "name": "stdout",
     "output_type": "stream",
     "text": [
      "0.80009165521\n",
      "0.800524934383\n",
      "             precision    recall  f1-score   support\n",
      "\n",
      "    british       0.80      0.83      0.82       206\n",
      "      irish       0.80      0.76      0.78       175\n",
      "\n",
      "avg / total       0.80      0.80      0.80       381\n",
      "\n"
     ]
    }
   ],
   "source": [
    "BI_indexes_train = [True if y == u\"british\" or y == u\"irish\" else False for y in y_train]\n",
    "BI_indexes_train = pd.Series(BI_indexes_train)\n",
    "\n",
    "BI_indexes_dev = [True if y == u\"british\" or y == u\"irish\" else False for y in y_dev]\n",
    "BI_indexes_dev = pd.Series(BI_indexes_dev)\n",
    "\n",
    "y_train_BI = pd.Series(y_train)[BI_indexes_train]\n",
    "X_train_BI = pd.Series(X_train)[BI_indexes_train]\n",
    "\n",
    "y_dev_BI = pd.Series(y_dev)[BI_indexes_dev]\n",
    "X_dev_BI = pd.Series(X_dev)[BI_indexes_dev]\n",
    "\n",
    "\n",
    "model = LogisticRegression(penalty = \"l2\", C = 1)\n",
    "\n",
    "vectorizer = CountVectorizer(preprocessor = custom_preprocessor,\n",
    "                             tokenizer = custom_tokenizer)\n",
    "\n",
    "pipe_BI = Pipeline([(\"vectorize\", vectorizer),\n",
    "                  #(\"to_dense\", DenseTransformer()),\n",
    "                  (\"model\", model)])\n",
    "\n",
    "\n",
    "gridsearch = False\n",
    "if gridsearch is True:\n",
    "    parameters = {\"model__penalty\": [\"l1\", \"l2\"],\n",
    "              \"model__C\": np.linspace(0.25, 1.5, 10)}\n",
    "\n",
    "    model_BI = GridSearchCV(pipe_BI, parameters)\n",
    "    model_BI.fit(X_train_BI, y_train_BI)\n",
    "    print model_BI.best_params_\n",
    "else:\n",
    "    model_BI = pipe_BI\n",
    "    model_BI.fit(X_train_BI, y_train_BI)\n",
    "\n",
    "preds_BI = model_BI.predict(X_dev_BI)\n",
    "\n",
    "print(metrics.f1_score(y_dev_BI, preds_BI, average='weighted'))\n",
    "print(model_BI.score(X_dev_BI, y_dev_BI))\n",
    "print(classification_report(y_dev_BI, preds_BI))"
   ]
  },
  {
   "cell_type": "markdown",
   "metadata": {
    "ein.tags": "worksheet-0",
    "slideshow": {
     "slide-type": "-"
    }
   },
   "source": [
    "The high f1 and scores here show that this approach has some promise.  To integrate this idea into a large model, we developed a script which allowed us to systematically create subgroups of classifications in an ad-hoc manner and see which subgroups improved the overall performance of the model."
   ]
  },
  {
   "cell_type": "code",
   "execution_count": 17,
   "metadata": {
    "autoscroll": false,
    "collapsed": false,
    "ein.tags": "worksheet-0",
    "slideshow": {
     "slide-type": "-"
    }
   },
   "outputs": [],
   "source": [
    "def make_group_labels(label, group_name, group_cuisines):\n",
    "    if label in group_cuisines:\n",
    "        return group_name\n",
    "    else:\n",
    "        return label\n",
    "\n",
    "# For example\n",
    "BI_group = {\"cuisines\": [u\"british\", u\"irish\"], #which cuisines are included\n",
    "            \"group_name\": u\"BI\", # what sub-group this called by base model\n",
    "            \"model\": None} # The model which predicts the final cuisines\n",
    "\n",
    "\n",
    "def train_ensemble_model(base_model, splits, X_train, y_train, X_dev, y_dev):\n",
    "    \"\"\"\n",
    "    This function accepts a list of dictionaries which define which supgroup splits to make, splits the training\n",
    "    data into those groups, and then makes sub-classifier models for each of them.  It then predicts against the\n",
    "    dev data to return an overall score.\n",
    "    \"\"\"\n",
    "\n",
    "    # First we must relabel the data to account for all of the splits\n",
    "    y_train_grouped = y_train\n",
    "    y_dev_grouped = y_dev\n",
    "    for split in splits:\n",
    "        y_train_grouped= pd.Series(y_train_grouped).map(lambda r:make_group_labels(r,\n",
    "                                                                                   split[\"group_name\"],\n",
    "                                                                                   split[\"cuisines\"]))\n",
    "\n",
    "        y_dev_grouped= pd.Series(y_dev_grouped).map(lambda r:make_group_labels(r,\n",
    "                                                                               split[\"group_name\"],\n",
    "                                                                               split[\"cuisines\"]))\n",
    "\n",
    "    # Next we train the base_model\n",
    "    print \"Fitting Base Model to classify into groups.\"\n",
    "    base_model.fit(X_train, y_train_grouped)\n",
    "\n",
    "    # Train the sub models for each group\n",
    "    for split in splits:\n",
    "        print(\"Training split model:\", split[\"group_name\"], \"for cuisines:\", split[\"cuisines\"])\n",
    "        # slice the data\n",
    "        train_split_indicies = pd.Series([True if y == split[\"group_name\"] else False for y in y_train_grouped])\n",
    "        X_train_split = pd.Series(X_train)[train_split_indicies]\n",
    "        y_train_split = pd.Series(y_train)[train_split_indicies]\n",
    "\n",
    "        dev_split_indicies = pd.Series([True if y == split[\"group_name\"] else False for y in y_dev_grouped])\n",
    "        X_dev_split = pd.Series(X_dev)[dev_split_indicies]\n",
    "        y_dev_split = pd.Series(y_dev)[dev_split_indicies]\n",
    "\n",
    "        if split[\"model\"] is None:\n",
    "            vectorizer = CountVectorizer(preprocessor = custom_preprocessor,\n",
    "                             tokenizer = custom_tokenizer)\n",
    "\n",
    "            classifier = LogisticRegression(penalty = \"l2\")\n",
    "            split_model = Pipeline([(\"vectorize\", vectorizer),\n",
    "                                    (\"model\", classifier)])\n",
    "        else:\n",
    "           split_model = split[\"model\"]\n",
    "\n",
    "        split_model.fit(X_train_split, y_train_split)\n",
    "        split_predictions = split_model.predict(X_dev_split)\n",
    "        split[\"model\"] = split_model\n",
    "\n",
    "        split[\"classification_report\"] = classification_report(y_dev_split, split_predictions)\n",
    "\n",
    "    print \"Creating final predictions.\"\n",
    "    preds = base_model.predict(X_dev)\n",
    "    for split in splits:\n",
    "        split_prediction_indicies = [True if y == split[\"group_name\"] else False for y in preds]\n",
    "        fill_in_predictions = split[\"model\"].predict(pd.Series(X_dev)[split_prediction_indicies])\n",
    "        preds = pd.Series(preds)\n",
    "        preds[split_prediction_indicies] = fill_in_predictions\n",
    "\n",
    "    print(metrics.f1_score(y_dev, preds, average=\"weighted\"))\n",
    "    print(classification_report(y_dev, preds))\n",
    "    return base_model, splits, preds"
   ]
  },
  {
   "cell_type": "markdown",
   "metadata": {
    "ein.tags": "worksheet-0",
    "slideshow": {
     "slide-type": "-"
    }
   },
   "source": [
    "Having defined the model, next we must apply it for splitting the British and Irish."
   ]
  },
  {
   "cell_type": "code",
   "execution_count": 18,
   "metadata": {
    "autoscroll": false,
    "collapsed": false,
    "ein.tags": "worksheet-0",
    "slideshow": {
     "slide-type": "-"
    }
   },
   "outputs": [
    {
     "name": "stdout",
     "output_type": "stream",
     "text": [
      "Fitting Base Model to classify into groups.\n",
      "('Training split model:', u'BI', 'for cuisines:', [u'british', u'irish'])\n",
      "Creating final predictions.\n",
      "0.800207994669\n",
      "              precision    recall  f1-score   support\n",
      "\n",
      "   brazilian       0.83      0.61      0.70       121\n",
      "     british       0.57      0.54      0.56       206\n",
      "cajun_creole       0.79      0.74      0.76       376\n",
      "     chinese       0.85      0.85      0.85       670\n",
      "    filipino       0.73      0.65      0.69       190\n",
      "      french       0.64      0.66      0.65       636\n",
      "       greek       0.79      0.72      0.75       258\n",
      "      indian       0.87      0.91      0.89       758\n",
      "       irish       0.61      0.57      0.59       175\n",
      "     italian       0.81      0.90      0.85      1963\n",
      "    jamaican       0.88      0.68      0.77       123\n",
      "    japanese       0.82      0.74      0.78       342\n",
      "      korean       0.86      0.77      0.82       221\n",
      "     mexican       0.91      0.93      0.92      1668\n",
      "    moroccan       0.84      0.78      0.81       215\n",
      "     russian       0.75      0.44      0.55       133\n",
      " southern_us       0.74      0.77      0.76      1056\n",
      "     spanish       0.67      0.45      0.53       247\n",
      "        thai       0.82      0.82      0.82       391\n",
      "  vietnamese       0.74      0.65      0.69       195\n",
      "\n",
      " avg / total       0.80      0.80      0.80      9944\n",
      "\n",
      "             precision    recall  f1-score   support\n",
      "\n",
      "    british       0.80      0.83      0.82       206\n",
      "      irish       0.80      0.76      0.78       175\n",
      "\n",
      "avg / total       0.80      0.80      0.80       381\n",
      "\n",
      "\n",
      "\n"
     ]
    }
   ],
   "source": [
    "# Apply \n",
    "model = LogisticRegression(penalty = \"l2\", C = 1)\n",
    "\n",
    "vectorizer = CountVectorizer(preprocessor = custom_preprocessor,\n",
    "                             tokenizer = custom_tokenizer)\n",
    "base_model = Pipeline([(\"vectorize\", vectorizer),\n",
    "                       (\"model\", model)])\n",
    "\n",
    "BI_group = {\"cuisines\": [u\"british\", u\"irish\"], #which cuisines are included\n",
    "            \"group_name\": u\"BI\", # what sub-group this called by base model\n",
    "            \"model\": None} # The model which predicts the final cuisines\n",
    "\n",
    "splits = [BI_group]\n",
    "\n",
    "base_model, splits, preds = train_ensemble_model(base_model, splits, X_train, y_train, X_dev, y_dev)\n",
    "\n",
    "for split in splits:\n",
    "    print split[\"classification_report\"]\n",
    "    print \"\\n\"\n",
    "\n"
   ]
  },
  {
   "cell_type": "markdown",
   "metadata": {
    "ein.tags": "worksheet-0",
    "slideshow": {
     "slide-type": "-"
    }
   },
   "source": [
    "This model improves the accuracy and score slightly further.\n",
    "\n",
    "Due to the special nature of our model, we had to define another function for creating the predictions."
   ]
  },
  {
   "cell_type": "code",
   "execution_count": 20,
   "metadata": {
    "autoscroll": false,
    "collapsed": false,
    "ein.tags": "worksheet-0",
    "slideshow": {
     "slide-type": "-"
    }
   },
   "outputs": [
    {
     "name": "stdout",
     "output_type": "stream",
     "text": [
      "0.800207994669\n",
      "              precision    recall  f1-score   support\n",
      "\n",
      "   brazilian       0.83      0.61      0.70       121\n",
      "     british       0.57      0.54      0.56       206\n",
      "cajun_creole       0.79      0.74      0.76       376\n",
      "     chinese       0.85      0.85      0.85       670\n",
      "    filipino       0.73      0.65      0.69       190\n",
      "      french       0.64      0.66      0.65       636\n",
      "       greek       0.79      0.72      0.75       258\n",
      "      indian       0.87      0.91      0.89       758\n",
      "       irish       0.61      0.57      0.59       175\n",
      "     italian       0.81      0.90      0.85      1963\n",
      "    jamaican       0.88      0.68      0.77       123\n",
      "    japanese       0.82      0.74      0.78       342\n",
      "      korean       0.86      0.77      0.82       221\n",
      "     mexican       0.91      0.93      0.92      1668\n",
      "    moroccan       0.84      0.78      0.81       215\n",
      "     russian       0.75      0.44      0.55       133\n",
      " southern_us       0.74      0.77      0.76      1056\n",
      "     spanish       0.67      0.45      0.53       247\n",
      "        thai       0.82      0.82      0.82       391\n",
      "  vietnamese       0.74      0.65      0.69       195\n",
      "\n",
      " avg / total       0.80      0.80      0.80      9944\n",
      "\n"
     ]
    }
   ],
   "source": [
    "def predict_ensemble_model(base_model, splits, data):\n",
    "    preds = base_model.predict(data)\n",
    "    for split in splits:\n",
    "        split_prediction_indexes = [True if y == split['group_name'] else False for y in preds]\n",
    "        fill_in_split = split['model'].predict(pd.Series(data)[split_prediction_indexes])\n",
    "\n",
    "        # Reconnect the predictions for the final model.\n",
    "        preds= pd.Series(preds)\n",
    "        preds[split_prediction_indexes] = fill_in_split\n",
    "    return preds\n",
    "\n",
    "dev_preds = predict_ensemble_model(base_model, [BI_group], X_dev)\n",
    "\n",
    "\n",
    "print(metrics.f1_score(y_dev, dev_preds, average='weighted'))\n",
    "print(classification_report(y_dev, dev_preds))\n"
   ]
  },
  {
   "cell_type": "markdown",
   "metadata": {
    "ein.tags": "worksheet-0",
    "slideshow": {
     "slide-type": "-"
    }
   },
   "source": [
    "# Evaluation\n",
    "\n",
    "Overal, an accuracy of about 80% is quite good and we are proud of this score as it puts us very near the top 200 on the kaggle leaderboard."
   ]
  },
  {
   "cell_type": "markdown",
   "metadata": {
    "ein.tags": "worksheet-0",
    "slideshow": {
     "slide-type": "-"
    }
   },
   "source": [
    "The last step required is to use our final model to predict against the test data and submit it."
   ]
  },
  {
   "cell_type": "code",
   "execution_count": 21,
   "metadata": {
    "autoscroll": false,
    "collapsed": false,
    "ein.tags": "worksheet-0",
    "slideshow": {
     "slide-type": "-"
    }
   },
   "outputs": [
    {
     "name": "stdout",
     "output_type": "stream",
     "text": [
      "9944\n"
     ]
    }
   ],
   "source": [
    "test_predictions = predict_ensemble_model(base_model, [BI_group], X_test)\n",
    "print len(test_predictions)\n",
    "submission = pd.DataFrame({\"id\":ID_test, \"cuisine\":test_predictions})\n",
    "cols = [\"id\", \"cuisine\"]\n",
    "submission[cols].to_csv(\"submission.csv\", index = False)"
   ]
  },
  {
   "cell_type": "markdown",
   "metadata": {
    "ein.tags": "worksheet-0",
    "slideshow": {
     "slide-type": "-"
    }
   },
   "source": [
    "# Conclusion\n",
    "\n",
    "Multiclass prediction problems are very difficult.  In this report, we made many improvements to our model by following a structured processing and trying many things.  We still realize that there is room for improvement, particularly in the realm of feature engineering.  More groups can easily be defined with our model, but we did not find any which improved the dev set accuracy beyond only using the British and Irish grouping.  Our best model ranked us to where we would have been tied for 213th out of 1388, which is just about at the 85th percentile.  "
   ]
  }
 ],
 "metadata": {
  "anaconda-cloud": {},
  "kernelspec": {
   "display_name": "Python [conda env:python2ve]",
   "language": "python",
   "name": "conda-env-python2ve-py"
  },
  "language_info": {
   "codemirror_mode": {
    "name": "ipython",
    "version": 2
   },
   "file_extension": ".py",
   "mimetype": "text/x-python",
   "name": "python",
   "nbconvert_exporter": "python",
   "pygments_lexer": "ipython2",
   "version": "2.7.13"
  },
  "name": "final_project_submission.ipynb"
 },
 "nbformat": 4,
 "nbformat_minor": 1
}
